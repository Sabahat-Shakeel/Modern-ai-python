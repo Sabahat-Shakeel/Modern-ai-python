{
 "cells": [
  {
   "cell_type": "markdown",
   "metadata": {},
   "source": [
    "## Install\n",
    "  - `pip install colorama`"
   ]
  },
  {
   "cell_type": "code",
   "execution_count": null,
   "metadata": {},
   "outputs": [],
   "source": [
    "!pip install colorama\n",
    "from colorama import Fore, Style\n",
    "import random\n",
    "import string\n",
    "\n",
    "def generate_password(length=12):\n",
    "\n",
    "    characters = string.ascii_lowercase\n",
    "    return ''.join(random.choice(characters) for _ in range(length))\n",
    "\n",
    "def main():\n",
    "    print(Style.BRIGHT + Fore.CYAN +  f\"\\n------------------ PASSWORD GENERATOR! ------------------ \" + Style.RESET_ALL)\n",
    "\n",
    "    while True:\n",
    "        user_input = input(Fore.LIGHTBLACK_EX +  \"\\nType 'generate' to create a password or 'exit' to quit: \" + Style.RESET_ALL ).strip().lower()\n",
    "\n",
    "        if user_input == \"generate\":\n",
    "            password = generate_password()\n",
    "            print(Fore.GREEN +  f\"\\nYour generated password is: {password}\\n\")\n",
    "        elif user_input == \"exit\":\n",
    "            print(Fore.YELLOW +  \"\\nGoodbye! Thank you for using the Password Generator.\" + Style.RESET_ALL )\n",
    "            break\n",
    "        else:\n",
    "            print(Fore.RED +  \"\\nInvalid input! Please type 'generate' or 'exit'.\" + Style.RESET_ALL )\n",
    "\n",
    "# Run the program\n",
    "main()\n"
   ]
  }
 ],
 "metadata": {
  "language_info": {
   "name": "python"
  }
 },
 "nbformat": 4,
 "nbformat_minor": 2
}
