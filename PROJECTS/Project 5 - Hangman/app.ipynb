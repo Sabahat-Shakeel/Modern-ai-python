{
 "cells": [
  {
   "cell_type": "markdown",
   "metadata": {},
   "source": [
    "## Install\n",
    "  - `pip install colorama`"
   ]
  },
  {
   "cell_type": "code",
   "execution_count": null,
   "metadata": {},
   "outputs": [],
   "source": [
    "! pip install colorama\n",
    "from colorama import Fore, Style\n",
    "import random\n",
    "\n",
    "def hangman():\n",
    "\n",
    "    print(Style.BRIGHT +  Fore.CYAN +  \"\\n----------------- Let's Play Hangman -----------------\" + Style.RESET_ALL)\n",
    "    print(Fore.CYAN + \"\\nGuess The Hidden Word One Letter At A Time.\" + Style.RESET_ALL)\n",
    "\n",
    "    # Word list\n",
    "    word_list = [\"PYTHON\", \"SABAHAT\", \"CLOCK\", \"AI\", \"CAT\"]\n",
    "    secret_word = random.choice(word_list).lower()\n",
    "    guessed_word = [\"_\"] * len(secret_word)\n",
    "    attempts = 6\n",
    "    guessed_letters = []\n",
    "\n",
    "    print(Fore.BLACK +  \"\\nThe word to guess:\" + Style.RESET_ALL , \" \".join(guessed_word))\n",
    "\n",
    "    while attempts > 0 and \"_\" in guessed_word:\n",
    "        print(Fore.LIGHTBLACK_EX +  f\"\\nYou have {attempts} attempts remaining.\\n\" + Style.RESET_ALL)\n",
    "\n",
    "        print(Fore.LIGHTBLACK_EX + \"Guessed letters:\" + Style.RESET_ALL , \" \".join(guessed_letters))\n",
    "\n",
    "        guess = input(Fore.LIGHTBLACK_EX +  \"Guess a letter: \" + Style.RESET_ALL ).lower()\n",
    "\n",
    "        if len(guess) != 1 or not guess.isalpha():\n",
    "            print(Fore.RED  + \"Invalid input! Please guess a single letter.\" + Style.RESET_ALL )\n",
    "            continue\n",
    "\n",
    "        if guess in guessed_letters:\n",
    "            print(\"You already guessed that letter!\")\n",
    "            continue\n",
    "\n",
    "        guessed_letters.append(guess)\n",
    "\n",
    "        if guess in secret_word:\n",
    "            print(Fore.YELLOW +  f\"\\nGood job! '{guess}' is in the word.\" + Style.RESET_ALL)\n",
    "            for index, letter in enumerate(secret_word):\n",
    "                if letter == guess:\n",
    "                    guessed_word[index] = guess\n",
    "        else:\n",
    "            print(Fore.RED +  f\"\\nOops! '{guess}' is not in the word.\\n\" + Style.RESET_ALL )\n",
    "            attempts -= 1\n",
    "\n",
    "        print(Fore.LIGHTBLACK_EX +  \"Current word:\" + Style.RESET_ALL , \" \".join(guessed_word))\n",
    "\n",
    "    if \"_\" not in guessed_word:\n",
    "        print(Fore.GREEN +  \"\\nCongratulations! You guessed the word:\" + Style.RESET_ALL , secret_word)\n",
    "    else:\n",
    "        print(Fore.RED +  \"\\nGame Over! The word was:\" + Style.RESET_ALL, secret_word)\n",
    "\n",
    "if __name__ == \"__main__\":\n",
    "    hangman()\n"
   ]
  }
 ],
 "metadata": {
  "language_info": {
   "name": "python"
  }
 },
 "nbformat": 4,
 "nbformat_minor": 2
}
