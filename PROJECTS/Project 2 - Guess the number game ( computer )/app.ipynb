{
 "cells": [
  {
   "cell_type": "markdown",
   "metadata": {},
   "source": [
    "## Install\n",
    "  - `pip install colorama`"
   ]
  },
  {
   "cell_type": "code",
   "execution_count": null,
   "metadata": {},
   "outputs": [],
   "source": [
    "!pip install colorama\n",
    "import random\n",
    "from colorama import Fore, Style\n",
    "\n",
    "\n",
    "def guess_the_number():\n",
    "    print(Style.BRIGHT +  Fore.CYAN +  \"\\n-------------- Let's Play Guess The Number Game --------------\" + Style.RESET_ALL)\n",
    "    print(\"Computer guess the number between (1 - 5).\\n\")\n",
    "    print(\"Let's you guess the number.\")\n",
    "\n",
    "\n",
    "    number_to_guess = random.randint(1, 5)\n",
    "\n",
    "\n",
    "    while True:\n",
    "        try:\n",
    "\n",
    "            user_guess = int( input(Fore.LIGHTBLACK_EX + \"Now What You Guess The Number: \" + Style.RESET_ALL ))\n",
    "\n",
    "\n",
    "            if user_guess < number_to_guess:\n",
    "                print(Fore.LIGHTBLUE_EX + \"\\nYour Guess The Low Number. . .\" + Style.RESET_ALL)\n",
    "            elif user_guess > number_to_guess:\n",
    "                print(Fore.LIGHTBLUE_EX + \"\\n You Guess The High Number . . .\" + Style.RESET_ALL)\n",
    "            else:\n",
    "                print(Fore.GREEN + f\"\\nWELLDONE! you guessed {user_guess}, Its the Right Number!\" + Style.RESET_ALL)\n",
    "                break\n",
    "        except ValueError:\n",
    "            print(Fore.RED + \"Sirf numbers likhiye, please. Dobara koshish karein.\" + Style.RESET_ALL)\n",
    "\n",
    "if __name__ == \"__main__\":\n",
    "    guess_the_number()\n",
    "\n"
   ]
  }
 ],
 "metadata": {
  "language_info": {
   "name": "python"
  }
 },
 "nbformat": 4,
 "nbformat_minor": 2
}
