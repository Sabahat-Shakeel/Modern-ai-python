{
 "cells": [
  {
   "cell_type": "markdown",
   "metadata": {},
   "source": [
    "# BMI CALCULATOR WITH STEAMLIT\n",
    "\n"
   ]
  },
  {
   "cell_type": "code",
   "execution_count": null,
   "metadata": {},
   "outputs": [],
   "source": [
    "import streamlit as st\n",
    "\n",
    "\n",
    "\n",
    "st.title('BMI Calculator') \n",
    "st.write(\"Build by Sabahat Shakeel\")\n",
    "st.write(\"\")\n",
    "st.write(\"\")\n",
    "\n",
    "st.write(\"#### Enter Your Height (in cm) ####\") \n",
    "height = st.slider(\"\", 100, 250, 175) \n",
    "\n",
    "st.write(\"#### Enter Your Weight (in kg) ####\")\n",
    "weight = st.slider(\"\", 40 , 200 ,70)\n",
    "\n",
    "bmi = weight / ((height/100)**2)\n",
    "st.write(\"\")\n",
    "st.markdown(f\"**Your BMI is {bmi:.2f}**\")\n",
    "st.write(\"\")\n",
    "\n",
    "st.write(\"### BMI CATEGORIES :- ###\")\n",
    "st.write(\"- *Underweight:  BMI less than 18.5*\")\n",
    "st.write (\"- *Normal weight:  Bmi between 18.5 and 24.9*\")\n",
    "st.write(\"- *Obesity:  BMI 30 or greater*\")\n"
   ]
  }
 ],
 "metadata": {
  "kernelspec": {
   "display_name": ".venv",
   "language": "python",
   "name": "python3"
  },
  "language_info": {
   "name": "python",
   "version": "3.12.5"
  }
 },
 "nbformat": 4,
 "nbformat_minor": 2
}
