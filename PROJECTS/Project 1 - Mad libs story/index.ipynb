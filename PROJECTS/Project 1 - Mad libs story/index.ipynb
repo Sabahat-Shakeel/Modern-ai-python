{
 "cells": [
  {
   "cell_type": "markdown",
   "metadata": {},
   "source": [
    "## Install\n",
    "  - `pip install colorama`"
   ]
  },
  {
   "cell_type": "code",
   "execution_count": null,
   "metadata": {},
   "outputs": [],
   "source": [
    "!pip install colorama\n",
    "\n",
    "from colorama import Fore, Style\n",
    "\n",
    "\n",
    "print('===========================================================')\n",
    "print(Style.BRIGHT + Fore.CYAN + f\"\\n           Welcome to the Mad Libs game!\\n\" + Style.RESET_ALL)\n",
    "print('===========================================================')\n",
    "\n",
    "print(Fore.LIGHTRED_EX + \"\\nFill in the blanks to create a funny story.\\n\" + Style.RESET_ALL)\n",
    "\n",
    "name = input(Fore.LIGHTBLACK_EX + \"Enter a name: \" + Style.RESET_ALL)\n",
    "place = input(Fore.LIGHTBLACK_EX + \"Enter a place: \" + Style.RESET_ALL)\n",
    "animal = input(Fore.LIGHTBLACK_EX + \"Enter an animal: \" + Style.RESET_ALL)\n",
    "adjective = input(Fore.LIGHTBLACK_EX + \"Enter an adjective (describing word): \" + Style.RESET_ALL)\n",
    "verb = input(Fore.LIGHTBLACK_EX +     \"Enter a verb (action word): \" + Style.RESET_ALL)\n",
    "\n",
    "print('\\n---------------------------------------------------------')\n",
    "print(Fore.CYAN + Style.BRIGHT + f\"\\n              Generating your Mad Libs story...\\n\" + Style.RESET_ALL)\n",
    "\n",
    "\n",
    "story = f\"\"\"\n",
    "{Fore.GREEN + Style.BRIGHT }One day, {name} went to the {place}.\n",
    "At the {place}, {name} saw a {adjective} {animal} that was\n",
    "trying to {verb}. Everyone around was surprised, and {name}\n",
    "couldn't stop laughing! It was an unforgettable day at the {place}!{Style.RESET_ALL}\n",
    "\"\"\"\n",
    "\n",
    "\n",
    "print(story)\n",
    "\n",
    "print(Fore.YELLOW +Style.BRIGHT + f\"\\n        Thank you for playing the Mad Libs game! Goodbye!\\n\" + Style.RESET_ALL)\n",
    "print(f\"-         x          -           x           -         x         -\")\n"
   ]
  }
 ],
 "metadata": {
  "language_info": {
   "name": "python"
  }
 },
 "nbformat": 4,
 "nbformat_minor": 2
}
