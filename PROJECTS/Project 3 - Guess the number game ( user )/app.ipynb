{
 "cells": [
  {
   "cell_type": "markdown",
   "metadata": {},
   "source": [
    "## Install\n",
    "  - `pip install colorama`"
   ]
  },
  {
   "cell_type": "code",
   "execution_count": null,
   "metadata": {},
   "outputs": [],
   "source": [
    "!pip install colorama\n",
    "from colorama import Fore, Style\n",
    "\n",
    "def user_thinks_number():\n",
    "    print(Style.BRIGHT + Fore.CYAN + \"\\n----------- Let's Guess The Number Game -----------  \" + Style.RESET_ALL)\n",
    "    print(Fore.LIGHTBLACK_EX + \"\\nUser guessed the number between (1-3), let's computer guess the number.\\n \" + Style.RESET_ALL)\n",
    "\n",
    "\n",
    "    while True:\n",
    "\n",
    "        computer = 3\n",
    "\n",
    "        user_feedback = input(Fore.LIGHTBLACK_EX + \"Computer Guess The Number: \\n\" + Style.RESET_ALL)\n",
    "\n",
    "        if user_feedback == '3':\n",
    "            print(Fore.GREEN + f\"\\nNice! You guess the right number is: {computer}\" + Style.RESET_ALL)\n",
    "            break\n",
    "        elif user_feedback == '2':\n",
    "           print(Fore.RED + \"wrong\\n\" + Style.RESET_ALL)\n",
    "        elif user_feedback == '1':\n",
    "          print(Fore.RED + \"wrong\\n\" + Style.RESET_ALL)\n",
    "        else:\n",
    "            print(Fore.LIGHTBLACK_EX + \"\\nOnly guess the number between 1 to 3 .\\n\"  + Style.RESET_ALL)\n",
    "\n",
    "\n",
    "\n",
    "\n",
    "if __name__ == \"__main__\":\n",
    "    user_thinks_number()\n"
   ]
  }
 ],
 "metadata": {
  "language_info": {
   "name": "python"
  }
 },
 "nbformat": 4,
 "nbformat_minor": 2
}
