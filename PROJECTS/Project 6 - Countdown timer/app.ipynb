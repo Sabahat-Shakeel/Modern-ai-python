{
 "cells": [
  {
   "cell_type": "markdown",
   "metadata": {},
   "source": [
    "## Install\n",
    "  - `pip install colorama`"
   ]
  },
  {
   "cell_type": "code",
   "execution_count": null,
   "metadata": {},
   "outputs": [],
   "source": [
    "!pip install colorama\n",
    "from colorama import Fore, Style\n",
    "import time\n",
    "\n",
    "def countdown_timer(seconds):\n",
    "    print(Fore.CYAN +  \"\\nStarting countdown...\\n\" + Style.RESET_ALL )\n",
    "\n",
    "    for count in range(seconds, 0, -1):\n",
    "        print(Fore.LIGHTBLACK_EX +  f\"Counting: {count}...\" + Style.RESET_ALL )\n",
    "        time.sleep(1)\n",
    "\n",
    "    print(Fore.CYAN + f\"\\n   Time's up! 🧭 \" + Style.RESET_ALL)\n",
    "\n",
    "\n",
    "try:\n",
    "    print(Style.BRIGHT + Fore.CYAN + '\\n-------------- countdown Timer --------------' + Style.RESET_ALL )\n",
    "    total_seconds = int(input (Fore.LIGHTBLACK_EX  + \"\\nEnter the countdown time in seconds: \" + Style.RESET_ALL))\n",
    "\n",
    "    if total_seconds > 0:\n",
    "        countdown_timer(total_seconds)\n",
    "    else:\n",
    "        print(Fore.LIGHTBLUE_EX +  \"Please enter a positive number greater than 0.\"  + Style.RESET_ALL )\n",
    "except ValueError:\n",
    "    print(Fore.RED +  \"Invalid input! Please enter a valid number.\" + Style.RESET_ALL )\n"
   ]
  }
 ],
 "metadata": {
  "language_info": {
   "name": "python"
  }
 },
 "nbformat": 4,
 "nbformat_minor": 2
}
