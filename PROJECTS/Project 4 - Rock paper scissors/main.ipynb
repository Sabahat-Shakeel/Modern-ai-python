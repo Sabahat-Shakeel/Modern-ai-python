{
 "cells": [
  {
   "cell_type": "markdown",
   "metadata": {},
   "source": [
    "## Install\n",
    "  - `pip install colorama`"
   ]
  },
  {
   "cell_type": "code",
   "execution_count": null,
   "metadata": {},
   "outputs": [],
   "source": [
    "!pip install colorama\n",
    "from colorama import Fore, Style\n",
    "import random\n",
    "\n",
    "def rock_paper_scissors():\n",
    "    print(Style.BRIGHT + Fore.CYAN + \"\\n------------------ Let's Play Rock Paper Scissors Game ------------------ \\n\" + Style.RESET_ALL)\n",
    "\n",
    "\n",
    "    choices = [\"rock\", \"paper\", \"scissors\"]\n",
    "    user_score = 0\n",
    "    computer_score = 0\n",
    "\n",
    "    while True:\n",
    "        print( Fore.LIGHTBLACK_EX + \"\\nYour choices: (or type 'exit' to quit)\\n \"  + Style.RESET_ALL )\n",
    "        user_choice = input( Fore.LIGHTBLACK_EX + \"Enter your choice: \"  + Style.RESET_ALL).lower()\n",
    "\n",
    "        if user_choice == 'exit':\n",
    "            print(Fore.RED  + \"\\nGame Over!\"  + Style.RESET_ALL )\n",
    "            print( Fore.BLUE + f\"Final Scores: You: {user_score}, Computer: {computer_score}\"  + Style.RESET_ALL )\n",
    "            break\n",
    "\n",
    "        if user_choice not in choices:\n",
    "            print(Fore.RED  + \"\\nInvalid choice! Please choose 'rock', 'paper', or 'scissors'.\\n\" + Style.RESET_ALL )\n",
    "            continue\n",
    "\n",
    "        # Computer's choice\n",
    "        computer_choice = random.choice(choices)\n",
    "        print(Fore.LIGHTBLACK_EX + f\"Computer chose: {computer_choice}\"  + Style.RESET_ALL )\n",
    "\n",
    "        # Determine the winner\n",
    "        if user_choice == computer_choice:\n",
    "            print(Fore.CYAN +  \"\\nIt's a tie!\\n\" + Style.RESET_ALL)\n",
    "        elif (user_choice == \"rock\" and computer_choice == \"scissors\") or \\\n",
    "             (user_choice == \"scissors\" and computer_choice == \"paper\") or \\\n",
    "             (user_choice == \"paper\" and computer_choice == \"rock\"):\n",
    "            print(Fore.GREEN +  \"\\nYou win this round!\" + Style.RESET_ALL  )\n",
    "            user_score += 1\n",
    "        else:\n",
    "            print( Fore.GREEN + \"\\nComputer wins this round!\"  + Style.RESET_ALL)\n",
    "            computer_score += 1\n",
    "\n",
    "        # Display scores\n",
    "        print(Fore.LIGHTBLACK_EX + f\"\\nScores: You: {user_score}, Computer: {computer_score}\" + Style.RESET_ALL)\n",
    "\n",
    "if __name__ == \"__main__\":\n",
    "    rock_paper_scissors()\n"
   ]
  }
 ],
 "metadata": {
  "language_info": {
   "name": "python"
  }
 },
 "nbformat": 4,
 "nbformat_minor": 2
}
